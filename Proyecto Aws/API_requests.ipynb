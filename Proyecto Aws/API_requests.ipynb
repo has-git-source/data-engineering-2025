{
  "nbformat": 4,
  "nbformat_minor": 0,
  "metadata": {
    "colab": {
      "provenance": []
    },
    "kernelspec": {
      "name": "python3",
      "display_name": "Python 3"
    },
    "language_info": {
      "name": "python"
    }
  },
  "cells": [
    {
      "cell_type": "markdown",
      "source": [
        "# Proyecto AWS\n",
        "En este cuaderno extraeremos información de la API de Open-Meteor con los siguientes parámetros diarios:\n",
        "- **Temperatura máxima** (temperature_2m_max)\n",
        "- **Temperatura mínima** (temperature_2m_min)\n",
        "- **Precipitación total** (rain_sum)\n",
        "- **Horas de precipitación** (precipitation_hours)\n",
        "- **Velocidad máxima del viento** a 10m (wind_speed_10m_max)\n",
        "- **Radiación solar acumulada** (shortwave_radiation_sum)"
      ],
      "metadata": {
        "id": "cgNfNRm5w2iC"
      }
    },
    {
      "cell_type": "markdown",
      "source": [
        "**Importamos las paqueterias**"
      ],
      "metadata": {
        "id": "UnFRO0k8n2s5"
      }
    },
    {
      "cell_type": "code",
      "execution_count": 34,
      "metadata": {
        "id": "Ya8_F67lwhj5"
      },
      "outputs": [],
      "source": [
        "import requests\n",
        "import json\n",
        "from google.colab import files"
      ]
    },
    {
      "cell_type": "markdown",
      "source": [
        " **La ubicación que utilizaremos es en Ciudad de México, en Ciudad Universitaria.**"
      ],
      "metadata": {
        "id": "IWpfEbmrn18a"
      }
    },
    {
      "cell_type": "code",
      "source": [
        "# Ubicación: Ciudad Universitaria\n",
        "LATITUDE = 19.32450456172904\n",
        "LONGITUDE = -99.1791527279712\n",
        "TIMEZONE = \"America/Mexico_City\"\n",
        "# Peridodo: Febrero de 2020 a 2024\n",
        "YEARS = [2019, 2020, 2021, 2022,2023,2024]\n",
        "\n",
        "\n",
        "#Lista de parametros\n",
        "daily_params = \"precipitation_hours,wind_speed_10m_max,temperature_2m_max,temperature_2m_min,rain_sum,shortwave_radiation_sum\""
      ],
      "metadata": {
        "id": "ytnM8Wpnz-W0"
      },
      "execution_count": 35,
      "outputs": []
    },
    {
      "cell_type": "markdown",
      "source": [
        "**Obtenemos los datos de la API**"
      ],
      "metadata": {
        "id": "5DHF4UnVoZ5d"
      }
    },
    {
      "cell_type": "code",
      "source": [
        "def obtener_datos_clima_API(year):\n",
        "    url = f\"https://archive-api.open-meteo.com/v1/archive?latitude={LATITUDE}&longitude={LONGITUDE}&start_date={year}-01-01&end_date={year}-12-31&timezone={TIMEZONE}&daily={daily_params}\"\n",
        "    response = requests.get(url)\n",
        "    data = response.json()\n",
        "    return data"
      ],
      "metadata": {
        "id": "jiU1_K6kPgpK"
      },
      "execution_count": 36,
      "outputs": []
    },
    {
      "cell_type": "markdown",
      "source": [
        "**Descargamos los datos para cada año, en este caso de 2019 a 2024**"
      ],
      "metadata": {
        "id": "8wwQcGVwoe1z"
      }
    },
    {
      "cell_type": "code",
      "source": [
        "# Descargar datos para cada año y guardarlos en un diccionario\n",
        "datos_totales = {}\n",
        "for year in YEARS:\n",
        "    datos_totales[year] = obtener_datos_clima_API(year)"
      ],
      "metadata": {
        "id": "vpKRiK-4mdZh"
      },
      "execution_count": 37,
      "outputs": []
    },
    {
      "cell_type": "markdown",
      "source": [
        "**Guardamos el JSON**"
      ],
      "metadata": {
        "id": "kdg20z_mo9f0"
      }
    },
    {
      "cell_type": "code",
      "source": [
        "# Guardar en un archivo JSON\n",
        "with open(\"datos_clima.json\", \"w\") as f:\n",
        "    json.dump(datos_totales, f, indent=4)"
      ],
      "metadata": {
        "id": "lojProZWmj2_"
      },
      "execution_count": 38,
      "outputs": []
    },
    {
      "cell_type": "markdown",
      "source": [
        "**Descargamos el archivo JSON**"
      ],
      "metadata": {
        "id": "ka7aioWupDSN"
      }
    },
    {
      "cell_type": "code",
      "source": [
        "# Descargar el archivo JSON en Google Colab\n",
        "files.download(\"datos_clima.json\")"
      ],
      "metadata": {
        "colab": {
          "base_uri": "https://localhost:8080/",
          "height": 17
        },
        "id": "6JzrnhG7ml0H",
        "outputId": "43f371e9-e6f0-4717-e7d2-636da54c3f77"
      },
      "execution_count": 39,
      "outputs": [
        {
          "output_type": "display_data",
          "data": {
            "text/plain": [
              "<IPython.core.display.Javascript object>"
            ],
            "application/javascript": [
              "\n",
              "    async function download(id, filename, size) {\n",
              "      if (!google.colab.kernel.accessAllowed) {\n",
              "        return;\n",
              "      }\n",
              "      const div = document.createElement('div');\n",
              "      const label = document.createElement('label');\n",
              "      label.textContent = `Downloading \"${filename}\": `;\n",
              "      div.appendChild(label);\n",
              "      const progress = document.createElement('progress');\n",
              "      progress.max = size;\n",
              "      div.appendChild(progress);\n",
              "      document.body.appendChild(div);\n",
              "\n",
              "      const buffers = [];\n",
              "      let downloaded = 0;\n",
              "\n",
              "      const channel = await google.colab.kernel.comms.open(id);\n",
              "      // Send a message to notify the kernel that we're ready.\n",
              "      channel.send({})\n",
              "\n",
              "      for await (const message of channel.messages) {\n",
              "        // Send a message to notify the kernel that we're ready.\n",
              "        channel.send({})\n",
              "        if (message.buffers) {\n",
              "          for (const buffer of message.buffers) {\n",
              "            buffers.push(buffer);\n",
              "            downloaded += buffer.byteLength;\n",
              "            progress.value = downloaded;\n",
              "          }\n",
              "        }\n",
              "      }\n",
              "      const blob = new Blob(buffers, {type: 'application/binary'});\n",
              "      const a = document.createElement('a');\n",
              "      a.href = window.URL.createObjectURL(blob);\n",
              "      a.download = filename;\n",
              "      div.appendChild(a);\n",
              "      a.click();\n",
              "      div.remove();\n",
              "    }\n",
              "  "
            ]
          },
          "metadata": {}
        },
        {
          "output_type": "display_data",
          "data": {
            "text/plain": [
              "<IPython.core.display.Javascript object>"
            ],
            "application/javascript": [
              "download(\"download_a409a917-d316-4462-a8c6-b96b8563c38c\", \"datos_clima.json\", 357894)"
            ]
          },
          "metadata": {}
        }
      ]
    }
  ]
}
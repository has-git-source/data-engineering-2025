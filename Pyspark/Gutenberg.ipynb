{
 "cells": [
  {
   "cell_type": "markdown",
   "id": "85e7c896-05fa-448a-a005-771c95dc8bde",
   "metadata": {},
   "source": [
    "## Pyspark Gutenberg project\n",
    "Primero importaremos las librerias para crear una sesión de spark y obtener el libro desde la url."
   ]
  },
  {
   "cell_type": "code",
   "execution_count": 16,
   "id": "066479c8-73bb-43e7-895e-03f968ac5ae8",
   "metadata": {},
   "outputs": [],
   "source": [
    "from pyspark.sql import SparkSession\n",
    "from pyspark.sql.functions import explode, split, col, regexp_replace, size\n",
    "import requests"
   ]
  },
  {
   "cell_type": "markdown",
   "id": "abfb5a75-0e3c-4635-8b09-d0a010ec15d9",
   "metadata": {},
   "source": [
    "Creamos la sesión para manejar los datos en pyspark"
   ]
  },
  {
   "cell_type": "code",
   "execution_count": 17,
   "id": "b012dbea-6240-49bb-878e-99ddd516a97a",
   "metadata": {},
   "outputs": [],
   "source": [
    "spark = SparkSession.builder.appName(\"Analaislibro\").getOrCreate()"
   ]
  },
  {
   "cell_type": "markdown",
   "id": "f015c0e6-a6ed-4ce4-b1c2-a2f8b53d084b",
   "metadata": {},
   "source": [
    "Descargamos el libro desde Gutenberg, y lo almacenamos en una variable"
   ]
  },
  {
   "cell_type": "code",
   "execution_count": 18,
   "id": "44e4711e-3b7d-40bf-89d2-b184d2384ec4",
   "metadata": {},
   "outputs": [],
   "source": [
    "url = \"https://www.gutenberg.org/cache/epub/164/pg164.txt\"\n",
    "response = requests.get(url)\n",
    "libro_texto = response.text"
   ]
  },
  {
   "cell_type": "markdown",
   "id": "4a79bdce-68bb-43c7-a1c9-314578a0c436",
   "metadata": {},
   "source": [
    "Guardamos el contenido en un archivo local."
   ]
  },
  {
   "cell_type": "code",
   "execution_count": 19,
   "id": "44735d0c-d402-4002-9b1f-e286e75f6c9d",
   "metadata": {},
   "outputs": [],
   "source": [
    "with open(\"libro.txt\", \"w\", encoding=\"utf-8\") as file:\n",
    "    file.write(libro_texto)"
   ]
  },
  {
   "cell_type": "markdown",
   "id": "2c27078f-6d7f-49f4-bd57-12114e788817",
   "metadata": {},
   "source": [
    "Cargamos el texto en un **RDD** (Resilient Distributed Dataset)"
   ]
  },
  {
   "cell_type": "code",
   "execution_count": 21,
   "id": "a0fd0221-8732-4c72-b75a-f3e7e08722da",
   "metadata": {},
   "outputs": [],
   "source": [
    "rdd = spark.sparkContext.textFile(\"libro.txt\")"
   ]
  },
  {
   "cell_type": "markdown",
   "id": "b11ebb52-31f8-448b-9c42-1942df5e08fe",
   "metadata": {},
   "source": [
    "Eliminamos líneas vacías."
   ]
  },
  {
   "cell_type": "code",
   "execution_count": 22,
   "id": "a6484a74-3b20-4de2-9d42-d872932b8a61",
   "metadata": {},
   "outputs": [],
   "source": [
    "rdd = rdd.filter(lambda line: line.strip() != \"\")"
   ]
  },
  {
   "cell_type": "markdown",
   "id": "30b112a7-106c-40a0-88a2-f49d1012beb9",
   "metadata": {},
   "source": [
    "Buscamos los capítulos y taremos los resultados a una lista."
   ]
  },
  {
   "cell_type": "code",
   "execution_count": 23,
   "id": "8440eeb7-4ec9-4526-be85-0d3a119ddd54",
   "metadata": {},
   "outputs": [],
   "source": [
    "capitulos = rdd.filter(lambda line: line.strip().startswith(\"CHAPTER\")).collect()"
   ]
  },
  {
   "cell_type": "markdown",
   "id": "e2f8afc7-7b79-48e9-9e47-b96361aa3b31",
   "metadata": {},
   "source": [
    "Usamos **flatMap** para dividir el texto en parrafos, y lo convertimos en un **DataFrame**."
   ]
  },
  {
   "cell_type": "code",
   "execution_count": 26,
   "id": "38d987b0-4791-489f-b45e-eb40312e0a52",
   "metadata": {},
   "outputs": [],
   "source": [
    "parrafos = rdd.flatMap(lambda line: line.split(\"\\n\\n\"))\n",
    "df_parrafos = parrafos.map(lambda p: (p,)).toDF([\"parrafo\"])"
   ]
  },
  {
   "cell_type": "markdown",
   "id": "5b405051-b4f4-4849-aa48-64371d6bd3fc",
   "metadata": {},
   "source": [
    "Eliminamos caracteres especiales, dejando solo letrar y reducimos los espacios."
   ]
  },
  {
   "cell_type": "code",
   "execution_count": 27,
   "id": "6c810983-6126-4134-bb49-5d01dc9e1760",
   "metadata": {},
   "outputs": [],
   "source": [
    "df_parrafos = df_parrafos.withColumn(\"parrafo_limpio\", regexp_replace(col(\"parrafo\"), \"[^a-zA-Z\\s]\", \"\").alias(\"parrafo_limpio\"))\n",
    "df_parrafos = df_parrafos.withColumn(\"parrafo_limpio\", regexp_replace(col(\"parrafo_limpio\"), \"\\s+\", \" \").alias(\"parrafo_limpio\"))"
   ]
  },
  {
   "cell_type": "markdown",
   "id": "e432d547-f480-45a9-bbb2-e177581eb382",
   "metadata": {},
   "source": [
    "Dividimos el párrafo en oraciones, las contamos, dividimos las palabras y contamos el número de palabras en cada parrafo."
   ]
  },
  {
   "cell_type": "code",
   "execution_count": 29,
   "id": "7c542727-db4d-4ca5-8350-f7b052d5b671",
   "metadata": {},
   "outputs": [],
   "source": [
    "df_parrafos = df_parrafos.withColumn(\"oraciones\", split(col(\"parrafo_limpio\"), \"\\.\"))\n",
    "df_parrafos = df_parrafos.withColumn(\"num_oraciones\", size(col(\"oraciones\")))\n",
    "df_parrafos = df_parrafos.withColumn(\"palabras\", split(col(\"parrafo_limpio\"), \" \"))\n",
    "df_parrafos = df_parrafos.withColumn(\"num_palabras\", size(col(\"palabras\")))"
   ]
  },
  {
   "cell_type": "markdown",
   "id": "79f3bfac-f5da-49d5-a8e0-6d8d931b9871",
   "metadata": {},
   "source": [
    "Ahora visualizamos una vista previa de nuestro **DataFtrame**."
   ]
  },
  {
   "cell_type": "code",
   "execution_count": 15,
   "id": "2e4d4df2-79ab-49cc-8c36-bb571f8a7a34",
   "metadata": {},
   "outputs": [
    {
     "name": "stdout",
     "output_type": "stream",
     "text": [
      "+--------------------+--------------------+--------------------+-------------+--------------------+------------+\n",
      "|             parrafo|      parrafo_limpio|           oraciones|num_oraciones|            palabras|num_palabras|\n",
      "+--------------------+--------------------+--------------------+-------------+--------------------+------------+\n",
      "|The Project Guten...|The Project Guten...|[The Project Gute...|            1|[The, Project, Gu...|          11|\n",
      "|This ebook is for...|This ebook is for...|[This ebook is fo...|            1|[This, ebook, is,...|          14|\n",
      "|most other parts ...|most other parts ...|[most other parts...|            1|[most, other, par...|          14|\n",
      "|whatsoever. You m...|whatsoever You ma...|[whatsoever You m...|            1|[whatsoever, You,...|          14|\n",
      "|of the Project Gu...|of the Project Gu...|[of the Project G...|            1|[of, the, Project...|          11|\n",
      "|at www.gutenberg....|at wwwgutenbergor...|[at wwwgutenbergo...|            1|[at, wwwgutenberg...|          11|\n",
      "|you will have to ...|you will have to ...|[you will have to...|            1|[you, will, have,...|          14|\n",
      "|before using this...|before using this...|[before using thi...|            1|[before, using, t...|           4|\n",
      "|Title: Twenty Tho...|Title Twenty Thou...|[Title Twenty Tho...|            1|[Title, Twenty, T...|           7|\n",
      "| Author: Jules Verne|  Author Jules Verne|[Author Jules Verne]|            1|[Author, Jules, V...|           3|\n",
      "|Release date: Sep...|Release date Sept...|[Release date Sep...|            1|[Release, date, S...|           5|\n",
      "|                M...| Most recently up...|[ Most recently u...|            1|[, Most, recently...|           6|\n",
      "|   Language: English|    Language English|  [Language English]|            1| [Language, English]|           2|\n",
      "|Credits: a number...|Credits a number ...|[Credits a number...|            1|[Credits, a, numb...|           8|\n",
      "|*** START OF THE ...| START OF THE PRO...|[ START OF THE PR...|            1|[, START, OF, THE...|          14|\n",
      "|Twenty Thousand L...|Twenty Thousand L...|[Twenty Thousand ...|            1|[Twenty, Thousand...|           6|\n",
      "|      by Jules Verne|      by Jules Verne|    [by Jules Verne]|            1|  [by, Jules, Verne]|           3|\n",
      "|            Contents|            Contents|          [Contents]|            1|          [Contents]|           1|\n",
      "|              PART I|              PART I|           [ PART I]|            1|         [, PART, I]|           3|\n",
      "| CHAPTER I A SHIF...| CHAPTER I A SHIF...|[ CHAPTER I A SHI...|            1|[, CHAPTER, I, A,...|           6|\n",
      "| CHAPTER II PRO A...| CHAPTER II PRO A...|[ CHAPTER II PRO ...|            1|[, CHAPTER, II, P...|           6|\n",
      "| CHAPTER III I FO...| CHAPTER III I FO...|[ CHAPTER III I F...|            1|[, CHAPTER, III, ...|           7|\n",
      "| CHAPTER IV NED LAND| CHAPTER IV NED LAND|[ CHAPTER IV NED ...|            1|[, CHAPTER, IV, N...|           5|\n",
      "| CHAPTER V AT A V...| CHAPTER V AT A V...|[ CHAPTER V AT A ...|            1|[, CHAPTER, V, AT...|           6|\n",
      "| CHAPTER VI AT FU...| CHAPTER VI AT FU...|[ CHAPTER VI AT F...|            1|[, CHAPTER, VI, A...|           6|\n",
      "| CHAPTER VII AN U...| CHAPTER VII AN U...|[ CHAPTER VII AN ...|            1|[, CHAPTER, VII, ...|           8|\n",
      "| CHAPTER VIII MOB...| CHAPTER VIII MOB...|[ CHAPTER VIII MO...|            1|[, CHAPTER, VIII,...|           6|\n",
      "| CHAPTER IX NED L...| CHAPTER IX NED L...|[ CHAPTER IX NED ...|            1|[, CHAPTER, IX, N...|           6|\n",
      "| CHAPTER X THE MA...| CHAPTER X THE MA...|[ CHAPTER X THE M...|            1|[, CHAPTER, X, TH...|           8|\n",
      "| CHAPTER XI ALL B...| CHAPTER XI ALL B...|[ CHAPTER XI ALL ...|            1|[, CHAPTER, XI, A...|           6|\n",
      "| CHAPTER XII SOME...| CHAPTER XII SOME...|[ CHAPTER XII SOM...|            1|[, CHAPTER, XII, ...|           5|\n",
      "| CHAPTER XIII THE...| CHAPTER XIII THE...|[ CHAPTER XIII TH...|            1|[, CHAPTER, XIII,...|           6|\n",
      "| CHAPTER XIV A NO...| CHAPTER XIV A NO...|[ CHAPTER XIV A N...|            1|[, CHAPTER, XIV, ...|           7|\n",
      "| CHAPTER XV A WAL...| CHAPTER XV A WAL...|[ CHAPTER XV A WA...|            1|[, CHAPTER, XV, A...|          11|\n",
      "| CHAPTER XVI A SU...| CHAPTER XVI A SU...|[ CHAPTER XVI A S...|            1|[, CHAPTER, XVI, ...|           6|\n",
      "| CHAPTER XVII FOU...| CHAPTER XVII FOU...|[ CHAPTER XVII FO...|            1|[, CHAPTER, XVII,...|           9|\n",
      "| CHAPTER XVIII VA...| CHAPTER XVIII VA...|[ CHAPTER XVIII V...|            1|[, CHAPTER, XVIII...|           4|\n",
      "| CHAPTER XIX TORR...| CHAPTER XIX TORR...|[ CHAPTER XIX TOR...|            1|[, CHAPTER, XIX, ...|           5|\n",
      "| CHAPTER XX A FEW...| CHAPTER XX A FEW...|[ CHAPTER XX A FE...|            1|[, CHAPTER, XX, A...|           8|\n",
      "| CHAPTER XXI CAPT...| CHAPTER XXI CAPT...|[ CHAPTER XXI CAP...|            1|[, CHAPTER, XXI, ...|           6|\n",
      "| CHAPTER XXII “ÆG...| CHAPTER XXII GRI...|[ CHAPTER XXII GR...|            1|[, CHAPTER, XXII,...|           5|\n",
      "| CHAPTER XXIII TH...| CHAPTER XXIII TH...|[ CHAPTER XXIII T...|            1|[, CHAPTER, XXIII...|           6|\n",
      "|             PART II|             PART II|          [ PART II]|            1|        [, PART, II]|           3|\n",
      "| CHAPTER I THE IN...| CHAPTER I THE IN...|[ CHAPTER I THE I...|            1|[, CHAPTER, I, TH...|           6|\n",
      "| CHAPTER II A NOV...| CHAPTER II A NOV...|[ CHAPTER II A NO...|            1|[, CHAPTER, II, A...|           9|\n",
      "| CHAPTER III A PE...| CHAPTER III A PE...|[ CHAPTER III A P...|            1|[, CHAPTER, III, ...|           8|\n",
      "| CHAPTER IV THE R...| CHAPTER IV THE R...|[ CHAPTER IV THE ...|            1|[, CHAPTER, IV, T...|           6|\n",
      "| CHAPTER V THE AR...| CHAPTER V THE AR...|[ CHAPTER V THE A...|            1|[, CHAPTER, V, TH...|           6|\n",
      "| CHAPTER VI THE G...| CHAPTER VI THE G...|[ CHAPTER VI THE ...|            1|[, CHAPTER, VI, T...|           6|\n",
      "| CHAPTER VII THE ...| CHAPTER VII THE ...|[ CHAPTER VII THE...|            1|[, CHAPTER, VII, ...|           8|\n",
      "| CHAPTER VIII VIG...| CHAPTER VIII VIG...|[ CHAPTER VIII VI...|            1|[, CHAPTER, VIII,...|           5|\n",
      "| CHAPTER IX A VAN...| CHAPTER IX A VAN...|[ CHAPTER IX A VA...|            1|[, CHAPTER, IX, A...|           6|\n",
      "| CHAPTER X THE SU...| CHAPTER X THE SU...|[ CHAPTER X THE S...|            1|[, CHAPTER, X, TH...|           6|\n",
      "| CHAPTER XI THE S...| CHAPTER XI THE S...|[ CHAPTER XI THE ...|            1|[, CHAPTER, XI, T...|           6|\n",
      "| CHAPTER XII CACH...| CHAPTER XII CACH...|[ CHAPTER XII CAC...|            1|[, CHAPTER, XII, ...|           6|\n",
      "| CHAPTER XIII THE...| CHAPTER XIII THE...|[ CHAPTER XIII TH...|            1|[, CHAPTER, XIII,...|           5|\n",
      "| CHAPTER XIV THE ...| CHAPTER XIV THE ...|[ CHAPTER XIV THE...|            1|[, CHAPTER, XIV, ...|           6|\n",
      "| CHAPTER XV ACCID...| CHAPTER XV ACCID...|[ CHAPTER XV ACCI...|            1|[, CHAPTER, XV, A...|           6|\n",
      "| CHAPTER XVI WANT...| CHAPTER XVI WANT...|[ CHAPTER XVI WAN...|            1|[, CHAPTER, XVI, ...|           6|\n",
      "| CHAPTER XVII FRO...| CHAPTER XVII FRO...|[ CHAPTER XVII FR...|            1|[, CHAPTER, XVII,...|           9|\n",
      "| CHAPTER XVIII TH...| CHAPTER XVIII TH...|[ CHAPTER XVIII T...|            1|[, CHAPTER, XVIII...|           5|\n",
      "| CHAPTER XIX THE ...| CHAPTER XIX THE ...|[ CHAPTER XIX THE...|            1|[, CHAPTER, XIX, ...|           6|\n",
      "| CHAPTER XX FROM ...| CHAPTER XX FROM ...|[ CHAPTER XX FROM...|            1|[, CHAPTER, XX, F...|           8|\n",
      "| CHAPTER XXI A HE...| CHAPTER XXI A HE...|[ CHAPTER XXI A H...|            1|[, CHAPTER, XXI, ...|           5|\n",
      "| CHAPTER XXII THE...| CHAPTER XXII THE...|[ CHAPTER XXII TH...|            1|[, CHAPTER, XXII,...|           9|\n",
      "| CHAPTER XXIII CO...| CHAPTER XXIII CO...|[ CHAPTER XXIII C...|            1|[, CHAPTER, XXIII...|           4|\n",
      "|List of Illustrat...|List of Illustrat...|[List of Illustra...|            1|[List, of, Illust...|           3|\n",
      "| An old grey-bear...| An old greybeard...|[ An old greybear...|            1|[, An, old, greyb...|           6|\n",
      "| Captain Nemo’s s...| Captain Nemos st...|[ Captain Nemos s...|            1|[, Captain, Nemos...|           4|\n",
      "| Captain Nemo too...| Captain Nemo too...|[ Captain Nemo to...|            1|[, Captain, Nemo,...|           7|\n",
      "| I was ready to s...| I was ready to s...|[ I was ready to ...|            1|[, I, was, ready,...|           7|\n",
      "| Conseil seized h...| Conseil seized h...|[ Conseil seized ...|            1|[, Conseil, seize...|           5|\n",
      "| All fell on thei...| All fell on thei...|[ All fell on the...|            1|[, All, fell, on,...|          11|\n",
      "| A terrible comba...| A terrible comba...|[ A terrible comb...|            1|[, A, terrible, c...|           5|\n",
      "| “A man! A shipwr...| A man A shipwrec...|[ A man A shipwre...|            1|[, A, man, A, shi...|           8|\n",
      "| The _Nautilus_ w...| The Nautilus was...|[ The Nautilus wa...|            1|[, The, Nautilus,...|           8|\n",
      "| The _Nautilus_ w...| The Nautilus was...|[ The Nautilus wa...|            1|[, The, Nautilus,...|           6|\n",
      "| One of these lon...| One of these lon...|[ One of these lo...|            1|[, One, of, these...|          10|\n",
      "| The unfortunate ...| The unfortunate ...|[ The unfortunate...|            1|[, The, unfortuna...|           7|\n",
      "|            PART ONE|            PART ONE|          [PART ONE]|            1|         [PART, ONE]|           2|\n",
      "|           CHAPTER I|           CHAPTER I|         [CHAPTER I]|            1|        [CHAPTER, I]|           2|\n",
      "|     A SHIFTING REEF|     A SHIFTING REEF|   [A SHIFTING REEF]|            1| [A, SHIFTING, REEF]|           3|\n",
      "|The year 1866 was...|The year was sign...|[The year was sig...|            1|[The, year, was, ...|          11|\n",
      "|puzzling phenomen...|puzzling phenomen...|[puzzling phenome...|            1|[puzzling, phenom...|          11|\n",
      "|mention rumours w...|mention rumours w...|[mention rumours ...|            1|[mention, rumours...|          10|\n",
      "|public mind, even...|public mind even ...|[public mind even...|            1|[public, mind, ev...|          11|\n",
      "|particularly exci...|particularly exci...|[particularly exc...|            1|[particularly, ex...|           8|\n",
      "|skippers, both of...|skippers both of ...|[skippers both of...|            1|[skippers, both, ...|          11|\n",
      "|and the Governmen...|and the Governmen...|[and the Governme...|            1|[and, the, Govern...|          11|\n",
      "|deeply interested...|deeply interested...|[deeply intereste...|            1|[deeply, interest...|           5|\n",
      "|For some time pas...|For some time pas...|[For some time pa...|            1|[For, some, time,...|          14|\n",
      "|object, spindle-s...|object spindlesha...|[object spindlesh...|            1|[object, spindles...|           6|\n",
      "|larger and more r...|larger and more r...|[larger and more ...|            1|[larger, and, mor...|          10|\n",
      "|The facts relatin...|The facts relatin...|[The facts relati...|            1|[The, facts, rela...|          10|\n",
      "|agreed in most re...|agreed in most re...|[agreed in most r...|            1|[agreed, in, most...|          14|\n",
      "|question, the unt...|question the unti...|[question the unt...|            1|[question, the, u...|          10|\n",
      "|of locomotion, an...|of locomotion and...|[of locomotion an...|            1|[of, locomotion, ...|          12|\n",
      "|it was a cetacean...|it was a cetacean...|[it was a cetacea...|            1|[it, was, a, ceta...|          12|\n",
      "|in science. Takin...|in science Taking...|[in science Takin...|            1|[in, science, Tak...|          11|\n",
      "|divers times,—rej...|divers timesrejec...|[divers timesreje...|            1|[divers, timesrej...|          10|\n",
      "+--------------------+--------------------+--------------------+-------------+--------------------+------------+\n",
      "only showing top 100 rows\n",
      "\n"
     ]
    }
   ],
   "source": [
    "df_parrafos.show(100)"
   ]
  }
 ],
 "metadata": {
  "kernelspec": {
   "display_name": "Python 3 (ipykernel)",
   "language": "python",
   "name": "python3"
  },
  "language_info": {
   "codemirror_mode": {
    "name": "ipython",
    "version": 3
   },
   "file_extension": ".py",
   "mimetype": "text/x-python",
   "name": "python",
   "nbconvert_exporter": "python",
   "pygments_lexer": "ipython3",
   "version": "3.11.6"
  }
 },
 "nbformat": 4,
 "nbformat_minor": 5
}

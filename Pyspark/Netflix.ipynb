{
 "cells": [
  {
   "cell_type": "markdown",
   "id": "979f8f36-3976-4451-acb5-de722780e949",
   "metadata": {},
   "source": [
    "## Netflix Movies"
   ]
  },
  {
   "cell_type": "code",
   "execution_count": 1,
   "id": "47135df3-3ac5-412d-8814-d16395609cf2",
   "metadata": {},
   "outputs": [],
   "source": [
    "import boto3\n",
    "import tempfile\n",
    "from pyspark.sql import SparkSession"
   ]
  },
  {
   "cell_type": "code",
   "execution_count": 2,
   "id": "918153d8-4cc6-4df6-9bad-72f38810f315",
   "metadata": {},
   "outputs": [],
   "source": [
    "spark = SparkSession.builder \\\n",
    "    .appName(\"TitanicAnalysisBoto3\") \\\n",
    "    .master(\"local[*]\") \\\n",
    "    .config(\"spark.executor.memory\", \"4g\") \\\n",
    "    .config(\"spark.driver.memory\", \"2g\") \\\n",
    "    .config(\"spark.executor.cores\", \"2\") \\\n",
    "    .config(\"spark.serializer\", \"org.apache.spark.serializer.KryoSerializer\") \\\n",
    "    .config(\"spark.sql.files.maxPartitionBytes\", \"128MB\") \\\n",
    "    .config(\"spark.sql.shuffle.partitions\", \"200\") \\\n",
    "    .config(\"spark.sql.execution.arrow.enabled\", \"true\") \\\n",
    "    .getOrCreate()"
   ]
  },
  {
   "cell_type": "code",
   "execution_count": 3,
   "id": "5f0fede4-337f-4dda-b5d8-af6d4796e5fc",
   "metadata": {},
   "outputs": [
    {
     "data": {
      "text/plain": [
       "'2'"
      ]
     },
     "execution_count": 3,
     "metadata": {},
     "output_type": "execute_result"
    }
   ],
   "source": [
    "spark.conf.get(\"spark.executor.cores\")"
   ]
  },
  {
   "cell_type": "markdown",
   "id": "b0a6fe0d-e5a8-4be5-8366-de0b01ca8b93",
   "metadata": {},
   "source": [
    "Abrimos el csv de netflix "
   ]
  },
  {
   "cell_type": "code",
   "execution_count": 5,
   "id": "00b164f7-5663-493c-8693-1a318b96cce3",
   "metadata": {},
   "outputs": [
    {
     "name": "stdout",
     "output_type": "stream",
     "text": [
      "+-------+-------+--------------------+--------------------+--------------------+--------------------+------------------+------------+------+---------+--------------------+--------------------+\n",
      "|show_id|   type|               title|            director|                cast|             country|        date_added|release_year|rating| duration|           listed_in|         description|\n",
      "+-------+-------+--------------------+--------------------+--------------------+--------------------+------------------+------------+------+---------+--------------------+--------------------+\n",
      "|     s1|  Movie|Dick Johnson Is Dead|     Kirsten Johnson|                NULL|       United States|September 25, 2021|        2020| PG-13|   90 min|       Documentaries|As her father nea...|\n",
      "|     s2|TV Show|       Blood & Water|                NULL|Ama Qamata, Khosi...|        South Africa|September 24, 2021|        2021| TV-MA|2 Seasons|International TV ...|After crossing pa...|\n",
      "|     s3|TV Show|           Ganglands|     Julien Leclercq|Sami Bouajila, Tr...|                NULL|September 24, 2021|        2021| TV-MA| 1 Season|Crime TV Shows, I...|To protect his fa...|\n",
      "|     s4|TV Show|Jailbirds New Orl...|                NULL|                NULL|                NULL|September 24, 2021|        2021| TV-MA| 1 Season|Docuseries, Reali...|Feuds, flirtation...|\n",
      "|     s5|TV Show|        Kota Factory|                NULL|Mayur More, Jiten...|               India|September 24, 2021|        2021| TV-MA|2 Seasons|International TV ...|In a city of coac...|\n",
      "|     s6|TV Show|       Midnight Mass|       Mike Flanagan|Kate Siegel, Zach...|                NULL|September 24, 2021|        2021| TV-MA| 1 Season|TV Dramas, TV Hor...|The arrival of a ...|\n",
      "|     s7|  Movie|My Little Pony: A...|Robert Cullen, Jo...|Vanessa Hudgens, ...|                NULL|September 24, 2021|        2021|    PG|   91 min|Children & Family...|Equestria's divid...|\n",
      "|     s8|  Movie|             Sankofa|        Haile Gerima|Kofi Ghanaba, Oya...|United States, Gh...|September 24, 2021|        1993| TV-MA|  125 min|Dramas, Independe...|On a photo shoot ...|\n",
      "|     s9|TV Show|The Great British...|     Andy Devonshire|Mel Giedroyc, Sue...|      United Kingdom|September 24, 2021|        2021| TV-14|9 Seasons|British TV Shows,...|A talented batch ...|\n",
      "|    s10|  Movie|        The Starling|      Theodore Melfi|Melissa McCarthy,...|       United States|September 24, 2021|        2021| PG-13|  104 min|    Comedies, Dramas|A woman adjusting...|\n",
      "|    s11|TV Show|Vendetta: Truth, ...|                NULL|                NULL|                NULL|September 24, 2021|        2021| TV-MA| 1 Season|Crime TV Shows, D...|\"Sicily boasts a ...|\n",
      "|    s12|TV Show|    Bangkok Breaking|   Kongkiat Komesiri|Sukollawat Kanaro...|                NULL|September 23, 2021|        2021| TV-MA| 1 Season|Crime TV Shows, I...|Struggling to ear...|\n",
      "|    s13|  Movie|        Je Suis Karl| Christian Schwochow|Luna Wedler, Jann...|Germany, Czech Re...|September 23, 2021|        2021| TV-MA|  127 min|Dramas, Internati...|After most of her...|\n",
      "|    s14|  Movie|Confessions of an...|       Bruno Garotti|Klara Castanho, L...|                NULL|September 22, 2021|        2021| TV-PG|   91 min|Children & Family...|When the clever b...|\n",
      "|    s15|TV Show|Crime Stories: In...|                NULL|                NULL|                NULL|September 22, 2021|        2021| TV-MA| 1 Season|British TV Shows,...|Cameras following...|\n",
      "|    s16|TV Show|   Dear White People|                NULL|Logan Browning, B...|       United States|September 22, 2021|        2021| TV-MA|4 Seasons|TV Comedies, TV D...|\"Students of colo...|\n",
      "|    s17|  Movie|Europe's Most Dan...|Pedro de Echave G...|                NULL|                NULL|September 22, 2021|        2020| TV-MA|   67 min|Documentaries, In...|Declassified docu...|\n",
      "|    s18|TV Show|     Falsa identidad|                NULL|Luis Ernesto Fran...|              Mexico|September 22, 2021|        2020| TV-MA|2 Seasons|Crime TV Shows, S...|Strangers Diego a...|\n",
      "|    s19|  Movie|           Intrusion|          Adam Salky|Freida Pinto, Log...|                NULL|September 22, 2021|        2021| TV-14|   94 min|           Thrillers|After a deadly ho...|\n",
      "|    s20|TV Show|              Jaguar|                NULL|Blanca Suárez, Iv...|                NULL|September 22, 2021|        2021| TV-MA| 1 Season|International TV ...|In the 1960s, a H...|\n",
      "+-------+-------+--------------------+--------------------+--------------------+--------------------+------------------+------------+------+---------+--------------------+--------------------+\n",
      "only showing top 20 rows\n",
      "\n"
     ]
    }
   ],
   "source": [
    "df = spark.read.csv(\"netflix_titles.csv\",header=True, inferSchema=True)\n",
    "df.show()"
   ]
  },
  {
   "cell_type": "code",
   "execution_count": 6,
   "id": "bb8b8582-0bee-440c-9810-9cb38cccf3ec",
   "metadata": {},
   "outputs": [],
   "source": [
    "from pyspark.sql.functions import corr, col, count, when"
   ]
  },
  {
   "cell_type": "code",
   "execution_count": 8,
   "id": "713671dc-16e7-4b5b-88f1-5ed0769889ec",
   "metadata": {},
   "outputs": [
    {
     "name": "stdout",
     "output_type": "stream",
     "text": [
      "8809\n"
     ]
    }
   ],
   "source": [
    "print(df.count())"
   ]
  },
  {
   "cell_type": "code",
   "execution_count": 9,
   "id": "701ee71a-9b12-4fcc-b1e3-51982771784b",
   "metadata": {},
   "outputs": [
    {
     "name": "stdout",
     "output_type": "stream",
     "text": [
      "['show_id', 'type', 'title', 'director', 'cast', 'country', 'date_added', 'release_year', 'rating', 'duration', 'listed_in', 'description']\n"
     ]
    }
   ],
   "source": [
    "print(df.columns)"
   ]
  },
  {
   "cell_type": "code",
   "execution_count": 10,
   "id": "cf431d81-9e4a-4e67-bd98-d6e3268c007d",
   "metadata": {},
   "outputs": [
    {
     "name": "stdout",
     "output_type": "stream",
     "text": [
      "12\n"
     ]
    }
   ],
   "source": [
    "print(len(df.columns))"
   ]
  },
  {
   "cell_type": "markdown",
   "id": "aef59f45-3c92-45a9-8f22-4fd18a513107",
   "metadata": {},
   "source": [
    "Por el tipo de datos en el csv, no podemos hacer correlaciones"
   ]
  },
  {
   "cell_type": "code",
   "execution_count": 14,
   "id": "c2150493-0d56-48ed-a42c-2b0579d59d31",
   "metadata": {},
   "outputs": [
    {
     "name": "stdout",
     "output_type": "stream",
     "text": [
      "root\n",
      " |-- show_id: string (nullable = true)\n",
      " |-- type: string (nullable = true)\n",
      " |-- title: string (nullable = true)\n",
      " |-- director: string (nullable = true)\n",
      " |-- cast: string (nullable = true)\n",
      " |-- country: string (nullable = true)\n",
      " |-- date_added: string (nullable = true)\n",
      " |-- release_year: string (nullable = true)\n",
      " |-- rating: string (nullable = true)\n",
      " |-- duration: string (nullable = true)\n",
      " |-- listed_in: string (nullable = true)\n",
      " |-- description: string (nullable = true)\n",
      "\n"
     ]
    }
   ],
   "source": [
    "df.printSchema()"
   ]
  },
  {
   "cell_type": "code",
   "execution_count": 13,
   "id": "8940f9d3-d725-4bab-81de-81cfc90cf0ec",
   "metadata": {},
   "outputs": [
    {
     "name": "stdout",
     "output_type": "stream",
     "text": [
      "+----------------------+\n",
      "|corr(rating, duration)|\n",
      "+----------------------+\n",
      "|                  NULL|\n",
      "+----------------------+\n",
      "\n"
     ]
    }
   ],
   "source": [
    "df.select(corr(\"rating\", \"duration\")).show()"
   ]
  },
  {
   "cell_type": "markdown",
   "id": "dcee30d6-e6b1-44ce-bd28-9ee0b2828df4",
   "metadata": {},
   "source": [
    "Si existieran columnas numericas de los shows podriamos hacer alguna correlación."
   ]
  },
  {
   "cell_type": "code",
   "execution_count": 16,
   "id": "b61b2768-8d02-40c3-aa6e-696b45421006",
   "metadata": {},
   "outputs": [
    {
     "name": "stdout",
     "output_type": "stream",
     "text": [
      "+-------+-------+--------------------+--------------------+--------------------+-------+------------------+------------+------+---------+--------------------+--------------------+\n",
      "|show_id|   type|               title|            director|                cast|country|        date_added|release_year|rating| duration|           listed_in|         description|\n",
      "+-------+-------+--------------------+--------------------+--------------------+-------+------------------+------------+------+---------+--------------------+--------------------+\n",
      "|    s18|TV Show|     Falsa identidad|                NULL|Luis Ernesto Fran...| Mexico|September 22, 2021|        2020| TV-MA|2 Seasons|Crime TV Shows, S...|Strangers Diego a...|\n",
      "|   s283|  Movie|La diosa del asfalto|    Julián Hernández|Ximena Romo, Mabe...| Mexico|   August 11, 2021|        2020| TV-MA|  127 min|Dramas, Independe...|A woman from a to...|\n",
      "|   s312|TV Show|           Control Z|                NULL|Ana Valeria Becer...| Mexico|    August 4, 2021|        2021| TV-MA|2 Seasons|International TV ...|When a hacker beg...|\n",
      "|   s626|TV Show|              Somos.|                NULL|Mercedes Hernánde...| Mexico|     June 30, 2021|        2021| TV-MA| 1 Season|Crime TV Shows, I...|The lives of the ...|\n",
      "|   s767|  Movie|Alan Saldaña: Loc...|           Alex Díaz|        Alan Saldaña| Mexico|      June 3, 2021|        2021| TV-MA|   49 min|     Stand-Up Comedy|Mexican comedian ...|\n",
      "|   s870|TV Show|    Who Killed Sara?|                NULL|Manolo Cardona, G...| Mexico|      May 19, 2021|        2021| TV-MA|2 Seasons|Crime TV Shows, I...|Hell-bent on exac...|\n",
      "|  s1003|  Movie|        Tell Me When|      Gerardo Gatica|Jesús Zavala, Xim...| Mexico|    April 21, 2021|        2021| TV-MA|   97 min|Comedies, Interna...|Workaholic Will p...|\n",
      "|  s1013|TV Show|Luis Miguel - The...|                NULL|Diego Boneta, Jua...| Mexico|    April 19, 2021|        2021| TV-MA|2 Seasons|International TV ...|This series drama...|\n",
      "|  s1320|  Movie|      Xico's Journey|Eric D. Cabello Díaz|Verónica Alva, Pa...| Mexico| February 12, 2021|        2021| TV-Y7|   87 min|Children & Family...|A girl, a dog and...|\n",
      "|  s1322|TV Show|            El Chema|                NULL|Mauricio Ochmann,...| Mexico| February 11, 2021|        2016| TV-MA| 1 Season|Crime TV Shows, S...|Follow one man's ...|\n",
      "|  s1352|  Movie|Our Lady of San J...|        Noé González|Alejandro Peña Ar...| Mexico|  February 2, 2021|        2020| TV-PG|  123 min|Dramas, Faith & S...|In this dramatiza...|\n",
      "|  s1393|TV Show|Daughter From Ano...|                NULL|Ludwika Paleta, P...| Mexico|  January 20, 2021|        2021| TV-MA| 1 Season|International TV ...|After realizing t...|\n",
      "|  s1461|TV Show|             Monarca|                NULL|Irene Azuela, Jua...| Mexico|   January 1, 2021|        2021| TV-MA|2 Seasons|International TV ...|After 20 years, A...|\n",
      "|  s1858|  Movie|The Three Deaths ...| Carlos Pérez Osorio|                NULL| Mexico|  October 14, 2020|        2020| TV-MA|  110 min|Documentaries, In...|This documentary ...|\n",
      "|  s1902|  Movie|     You've Got This|   Salvador Espinosa|Mauricio Ochmann,...| Mexico|   October 2, 2020|        2020| TV-MA|  112 min|Comedies, Interna...|An ad creative an...|\n",
      "|  s1926|TV Show|     You Cannot Hide|                NULL|Blanca Soto, Edua...| Mexico|   October 1, 2020|        2020| TV-MA| 1 Season|Crime TV Shows, I...|A nurse and her d...|\n",
      "|  s2008|  Movie|          Dad Wanted|      Javier Colinas|Natalia Coronado,...| Mexico|September 11, 2020|        2020| TV-14|  103 min|Children & Family...|What does a thril...|\n",
      "|  s2105|  Movie|         Dark Forces|   Bernardo Arellano|Tenoch Huerta, Er...| Mexico|   August 21, 2020|        2020| TV-MA|   81 min|Horror Movies, In...|In search of his ...|\n",
      "|  s2236|TV Show|         Dark Desire|                NULL|Maite Perroni, Er...| Mexico|     July 15, 2020|        2020| TV-MA| 1 Season|Crime TV Shows, I...|Married Alma spen...|\n",
      "|  s2401|TV Show|          The Search|                NULL|Darío Yazbek, Dia...| Mexico|     June 12, 2020|        2020| TV-MA| 1 Season|Crime TV Shows, I...|When a girl vanis...|\n",
      "+-------+-------+--------------------+--------------------+--------------------+-------+------------------+------------+------+---------+--------------------+--------------------+\n",
      "only showing top 20 rows\n",
      "\n"
     ]
    }
   ],
   "source": [
    "df_filter_ages = df.filter(col(\"country\") == \"Mexico\").show()"
   ]
  },
  {
   "cell_type": "code",
   "execution_count": 20,
   "id": "22685e4e-1a3d-48ae-be4e-03fd3d25b7cb",
   "metadata": {},
   "outputs": [
    {
     "name": "stdout",
     "output_type": "stream",
     "text": [
      "+------------------+-----+\n",
      "|        date_added|count|\n",
      "+------------------+-----+\n",
      "|      May 21, 2021|    8|\n",
      "|     March 2, 2021|    3|\n",
      "|September 23, 2020|    2|\n",
      "| September 8, 2020|    4|\n",
      "|    April 14, 2020|    2|\n",
      "| December 30, 2019|    1|\n",
      "|   August 12, 2019|    1|\n",
      "|     June 22, 2019|    2|\n",
      "|      May 30, 2017|    2|\n",
      "|    April 29, 2016|    2|\n",
      "|    March 25, 2016|    1|\n",
      "|  October 27, 2015|    1|\n",
      "|   January 1, 2008|    1|\n",
      "|     March 2, 2017|    2|\n",
      "|  October 31, 2015|    1|\n",
      "|     June 23, 2021|    5|\n",
      "|  November 1, 2020|   32|\n",
      "|  February 9, 2020|    3|\n",
      "| November 28, 2019|    6|\n",
      "|   October 5, 2019|    3|\n",
      "+------------------+-----+\n",
      "only showing top 20 rows\n",
      "\n"
     ]
    }
   ],
   "source": [
    "df.groupBy(\"date_added\").count().show()"
   ]
  },
  {
   "cell_type": "code",
   "execution_count": 21,
   "id": "0008e0b3-869c-4355-ab4f-89cbf83161b0",
   "metadata": {},
   "outputs": [
    {
     "name": "stdout",
     "output_type": "stream",
     "text": [
      "+-----------------+--------------------+-----+\n",
      "|       date_added|              rating|count|\n",
      "+-----------------+--------------------+-----+\n",
      "| December 1, 2020|                TV-Y|    5|\n",
      "|     June 5, 2020|               PG-13|    1|\n",
      "|     June 1, 2020|                TV-G|    1|\n",
      "| February 8, 2020|               TV-14|    1|\n",
      "|December 31, 2019|               TV-14|   40|\n",
      "|   August 8, 2019|               TV-14|    1|\n",
      "|     June 1, 2019|               TV-MA|    6|\n",
      "| January 15, 2019|               TV-MA|    5|\n",
      "| October 20, 2018|               TV-MA|    1|\n",
      "|  October 5, 2018|               TV-MA|    2|\n",
      "|    June 29, 2018|               TV-14|    1|\n",
      "| October 20, 2017|               TV-PG|    1|\n",
      "|   March 10, 2017|               TV-14|    6|\n",
      "| January 15, 2017|               TV-PG|    2|\n",
      "|  January 1, 2018|                TV-G|    4|\n",
      "|   April 18, 2017|                  PG|    1|\n",
      "| January 17, 2018|               TV-PG|    1|\n",
      "|            TV-PG|Classic Movies, D...|    1|\n",
      "|September 5, 2021|               TV-14|    1|\n",
      "|   August 6, 2021|               TV-14|    1|\n",
      "+-----------------+--------------------+-----+\n",
      "only showing top 20 rows\n",
      "\n"
     ]
    }
   ],
   "source": [
    "df.groupBy(\"date_added\", \"rating\").count().show()"
   ]
  },
  {
   "cell_type": "code",
   "execution_count": 23,
   "id": "286bbc4e-5452-45b9-b5b5-e68a05be1b01",
   "metadata": {},
   "outputs": [
    {
     "name": "stdout",
     "output_type": "stream",
     "text": [
      "+--------------------+------+-----+\n",
      "|           listed_in|rating|count|\n",
      "+--------------------+------+-----+\n",
      "|British TV Shows,...|  TV-Y|   15|\n",
      "|Dramas, Romantic ...| PG-13|   24|\n",
      "|Cult Movies, Horr...|     R|    2|\n",
      "|International Movies| TV-MA|    1|\n",
      "|Dramas, Faith & S...| TV-14|    5|\n",
      "|           Thrillers|     R|   30|\n",
      "|Crime TV Shows, T...| TV-14|    2|\n",
      "|Children & Family...| TV-PG|    1|\n",
      "|Children & Family...|  TV-Y|    2|\n",
      "|Documentaries, St...| TV-MA|    1|\n",
      "|           Thrillers| TV-MA|    7|\n",
      "|Action & Adventur...| TV-MA|    1|\n",
      "|Dramas, Faith & S...| TV-PG|    5|\n",
      "|Documentaries, Fa...|  TV-G|    1|\n",
      "|Dramas, Independe...| TV-PG|    1|\n",
      "|Action & Adventur...|    PG|    1|\n",
      "|TV Action & Adven...|    NR|    1|\n",
      "|Comedies, Interna...| TV-MA|   86|\n",
      "|Dramas, Independe...|     R|    5|\n",
      "|Anime Series, Rom...| TV-14|    1|\n",
      "|Dramas, Sci-Fi & ...|    PG|    1|\n",
      "|International Mov...| TV-MA|    1|\n",
      "|Dramas, Independe...|    NR|    4|\n",
      "|     Romantic Movies| TV-14|    1|\n",
      "|Crime TV Shows, I...| TV-MA|   12|\n",
      "|Anime Series, Int...| TV-MA|   37|\n",
      "|        Anime Series| TV-14|    4|\n",
      "|Kids' TV, Reality...|  TV-G|    1|\n",
      "|Comedies, Interna...|  TV-G|    1|\n",
      "|Children & Family...|    PG|    3|\n",
      "|            Kids' TV| TV-PG|    9|\n",
      "|TV Comedies, TV S...| TV-14|    2|\n",
      "|              Movies|66 min|    1|\n",
      "|Action & Adventur...| TV-MA|    3|\n",
      "|International Mov...| TV-MA|   38|\n",
      "|Action & Adventur...|     R|   26|\n",
      "|Comedies, Dramas,...|     R|   34|\n",
      "|Kids' TV, Spanish...|  TV-Y|    3|\n",
      "|Action & Adventur...| TV-14|    1|\n",
      "|Dramas, Internati...| TV-PG|   22|\n",
      "|Docuseries, Scien...| TV-MA|    8|\n",
      "|            Comedies|     R|   31|\n",
      "|British TV Shows,...| TV-MA|    9|\n",
      "|Documentaries, Fa...| TV-PG|    1|\n",
      "|Children & Family...| TV-14|    1|\n",
      "|Dramas, Independe...| TV-PG|    1|\n",
      "|Dramas, Faith & S...| TV-14|    1|\n",
      "|          Reality TV| TV-MA|   24|\n",
      "|              Dramas| PG-13|   38|\n",
      "|British TV Shows,...| TV-14|    8|\n",
      "+--------------------+------+-----+\n",
      "only showing top 50 rows\n",
      "\n"
     ]
    }
   ],
   "source": [
    "df.groupBy(\"listed_in\", \"rating\").count().show(50)"
   ]
  },
  {
   "cell_type": "code",
   "execution_count": 25,
   "id": "91ed65fb-4e1f-4d9d-a4cc-ac9135e2f9f0",
   "metadata": {},
   "outputs": [
    {
     "name": "stdout",
     "output_type": "stream",
     "text": [
      "+-------------+--------------------+-----+\n",
      "|         type|              rating|count|\n",
      "+-------------+--------------------+-----+\n",
      "|        Movie|                TV-G|  126|\n",
      "|        Movie|    Shavidee Trotter|    1|\n",
      "|        Movie|                TV-Y|  131|\n",
      "|        Movie|               TV-Y7|  139|\n",
      "|        Movie|              66 min|    1|\n",
      "|        Movie|                   G|   41|\n",
      "|        Movie|               NC-17|    3|\n",
      "|        Movie|               PG-13|  489|\n",
      "|         NULL|                NULL|    1|\n",
      "|      TV Show|               TV-PG|  323|\n",
      "|        Movie|            TV-Y7-FV|    5|\n",
      "|      TV Show|                  NR|    5|\n",
      "|        Movie|                   R|  794|\n",
      "|      TV Show|                NULL|    2|\n",
      "|        Movie|                  NR|   75|\n",
      "|        Movie|                2021|    2|\n",
      "|        Movie|         Jide Kosoko|    1|\n",
      "|      TV Show| Keppy Ekpenyong ...|    1|\n",
      "|      TV Show|               TV-Y7|  195|\n",
      "|        Movie|                2017|    1|\n",
      "|        Movie|               TV-14| 1426|\n",
      "|        Movie|      Benn Northover|    1|\n",
      "|        Movie|    November 1, 2020|    1|\n",
      "|      TV Show|                2006|    1|\n",
      "|        Movie|                  UR|    3|\n",
      "|        Movie|    Heather McDonald|    1|\n",
      "|        Movie|              84 min|    1|\n",
      "|      TV Show|            TV-Y7-FV|    1|\n",
      "|        Movie|     Jowharah Jones\"|    1|\n",
      "|        Movie|     Kristen Schaal\"|    1|\n",
      "|      TV Show|                TV-Y|  176|\n",
      "|      TV Show|       Adriane Lenox|    1|\n",
      "|        Movie|                  PG|  286|\n",
      "|      TV Show|                   R|    2|\n",
      "|        Movie|                NULL|    3|\n",
      "|      TV Show|                TV-G|   94|\n",
      "|      TV Show|               TV-MA| 1143|\n",
      "|        Movie|              74 min|    1|\n",
      "|        Movie|                E-40|    1|\n",
      "|        Movie|     Richard Pepple\"|    1|\n",
      "|        Movie|               TV-PG|  539|\n",
      "|        Movie|       Maury Chaykin|    1|\n",
      "|        Movie|               TV-MA| 2052|\n",
      "|William Wyler|Classic Movies, D...|    1|\n",
      "|        Movie|      Itziar Aizpuru|    1|\n",
      "|      TV Show|               TV-14|  732|\n",
      "|        Movie|       Rachel Dratch|    1|\n",
      "|        Movie|                2019|    1|\n",
      "+-------------+--------------------+-----+\n",
      "\n"
     ]
    }
   ],
   "source": [
    "df.groupBy(\"type\", \"rating\").count().show(100)"
   ]
  }
 ],
 "metadata": {
  "kernelspec": {
   "display_name": "Python 3 (ipykernel)",
   "language": "python",
   "name": "python3"
  },
  "language_info": {
   "codemirror_mode": {
    "name": "ipython",
    "version": 3
   },
   "file_extension": ".py",
   "mimetype": "text/x-python",
   "name": "python",
   "nbconvert_exporter": "python",
   "pygments_lexer": "ipython3",
   "version": "3.11.6"
  }
 },
 "nbformat": 4,
 "nbformat_minor": 5
}
